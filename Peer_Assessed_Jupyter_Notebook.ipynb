{
 "cells": [
  {
   "cell_type": "markdown",
   "id": "b5ac3e04-0f3a-4d34-9345-f58ed2c51fef",
   "metadata": {},
   "source": [
    "# Peer Reviewed Assessment"
   ]
  },
  {
   "cell_type": "markdown",
   "id": "956c000d-7578-48ae-a6d9-aa211ecbe058",
   "metadata": {},
   "source": [
    "This is my attempt at completing the peer reviewed assessment in a Jupyter Notebook, shared on GitHub."
   ]
  },
  {
   "cell_type": "markdown",
   "id": "a89d669e-828a-4854-b636-a77da8aba00a",
   "metadata": {},
   "source": [
    "A non-exhaustive list of data Science Languages:\n",
    "- Python\n",
    "- R\n",
    "- Julia\n",
    "- Scala\n",
    "- SQL"
   ]
  },
  {
   "cell_type": "markdown",
   "id": "7a1d30c1-854b-47a7-a757-77fc90d5c5c4",
   "metadata": {},
   "source": [
    "A non-exhaustive list of data science libraries:\n",
    "- For Python\n",
    "    - TensorFlow\n",
    "    - Keras\n",
    "    - SciKit-Learn\n",
    "    - PyTorch\n",
    "- For R\n",
    "    - Dplyr\n",
    "    - Ggplot"
   ]
  },
  {
   "cell_type": "markdown",
   "id": "b7ad610a-6923-4d62-8d9c-962585e151d3",
   "metadata": {},
   "source": [
    "A table of a few of the tools available for data science:\n",
    "\n",
    "Tool | Description |\n",
    "--- | --- | \n",
    "Watson Knowledge Catalog | Collates information from assets in one catalog\n",
    "SPSS Modeler Flows | Data management and visualisation\n",
    "SPSS Statistics | Statistics and machine learning\n",
    "GitHub | Version controlled collaboration\n",
    "Jupyter Notebook | Collaborative computing interface"
   ]
  },
  {
   "cell_type": "markdown",
   "id": "3a4a9e0d-43a5-4c2c-afcc-13b25eaa5d9d",
   "metadata": {},
   "source": [
    "In Jupyter notebooks you can do inline equations like this one $e^{i\\pi} + 1 = 0$ or alternatively you can have the equation separately like this:\n",
    "$$\n",
    "\\int_0^\\infty sin(x)dx = 1\n",
    "$$"
   ]
  },
  {
   "cell_type": "code",
   "execution_count": 18,
   "id": "8ba7bbda-f0cd-4225-9f8c-97829371334f",
   "metadata": {},
   "outputs": [
    {
     "data": {
      "text/plain": [
       "165"
      ]
     },
     "execution_count": 18,
     "metadata": {},
     "output_type": "execute_result"
    }
   ],
   "source": [
    "#adding and multiplying numbers together\n",
    "(5+6)*(7+8)"
   ]
  },
  {
   "cell_type": "code",
   "execution_count": 17,
   "id": "7427faab-66b5-4a74-a5b0-f4758b827c9e",
   "metadata": {},
   "outputs": [
    {
     "name": "stdin",
     "output_type": "stream",
     "text": [
      "please enter number of minutes to convert:\n",
      " 190\n"
     ]
    },
    {
     "name": "stdout",
     "output_type": "stream",
     "text": [
      "190.0 minutes = 3.17 hours\n",
      "or\n",
      "3 hours and 10.0 minutes\n"
     ]
    }
   ],
   "source": [
    "#code to convert minutes to hours\n",
    "mins = float(input(\"please enter number of minutes to convert:\\n\"))\n",
    "hours = mins/60\n",
    "whole_hours = int(mins//60) \n",
    "remainder = mins%60\n",
    "print(mins, \"minutes =\", \"{:.2f}\".format(hours), \"hours\")\n",
    "print(\"or\")\n",
    "print(whole_hours, \"hours and\", remainder, \"minutes\")"
   ]
  },
  {
   "cell_type": "markdown",
   "id": "8ead4377-9199-43a8-bda0-72a9bd53cecf",
   "metadata": {},
   "source": [
    "Objectives:\n",
    "- Use Jupyter Notebook effectively\n",
    "- Communicate knowledge of data science tools and languages\n",
    "- Practise a little python coding"
   ]
  },
  {
   "cell_type": "markdown",
   "id": "5ef1bfc8-c373-4808-ac0a-4082d928ecc4",
   "metadata": {},
   "source": [
    "Name: Aaron Simpson"
   ]
  }
 ],
 "metadata": {
  "kernelspec": {
   "display_name": "Python",
   "language": "python",
   "name": "conda-env-python-py"
  },
  "language_info": {
   "codemirror_mode": {
    "name": "ipython",
    "version": 3
   },
   "file_extension": ".py",
   "mimetype": "text/x-python",
   "name": "python",
   "nbconvert_exporter": "python",
   "pygments_lexer": "ipython3",
   "version": "3.7.12"
  }
 },
 "nbformat": 4,
 "nbformat_minor": 5
}
